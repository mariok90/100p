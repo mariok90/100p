{
  "nbformat": 4,
  "nbformat_minor": 0,
  "metadata": {
    "colab": {
      "provenance": [],
      "include_colab_link": true
    },
    "kernelspec": {
      "name": "python3",
      "display_name": "Python 3"
    },
    "language_info": {
      "name": "python"
    }
  },
  "cells": [
    {
      "cell_type": "markdown",
      "metadata": {
        "id": "view-in-github",
        "colab_type": "text"
      },
      "source": [
        "<a href=\"https://colab.research.google.com/github/mariok90/100p/blob/master/Kopie_von_Kopie_von_Copie_de_Lab1.ipynb\" target=\"_parent\"><img src=\"https://colab.research.google.com/assets/colab-badge.svg\" alt=\"Open In Colab\"/></a>"
      ]
    },
    {
      "cell_type": "markdown",
      "source": [
        "**Before starting to code**, you should execute the first cell belowto install the pulp module, a linear and mixed-integer linear program modeler written in python.\n",
        "\n",
        "Once executed at the beginning of your work, you can **comment this cell out** (by putting # in front the line), so that it is not executed every time you execute the whole notebook !"
      ],
      "metadata": {
        "id": "UwZGePNCYjpA"
      }
    },
    {
      "cell_type": "code",
      "metadata": {
        "id": "mjZzhjd3L8gy",
        "colab": {
          "base_uri": "https://localhost:8080/"
        },
        "outputId": "c129d906-4788-4d72-8ca3-c07f90c1ead6"
      },
      "source": [
        "!pip install pulp"
      ],
      "execution_count": null,
      "outputs": [
        {
          "output_type": "stream",
          "name": "stdout",
          "text": [
            "Looking in indexes: https://pypi.org/simple, https://us-python.pkg.dev/colab-wheels/public/simple/\n",
            "Collecting pulp\n",
            "  Downloading PuLP-2.7.0-py3-none-any.whl (14.3 MB)\n",
            "\u001b[2K     \u001b[90m━━━━━━━━━━━━━━━━━━━━━━━━━━━━━━━━━━━━━━━━\u001b[0m \u001b[32m14.3/14.3 MB\u001b[0m \u001b[31m78.3 MB/s\u001b[0m eta \u001b[36m0:00:00\u001b[0m\n",
            "\u001b[?25hInstalling collected packages: pulp\n",
            "Successfully installed pulp-2.7.0\n"
          ]
        }
      ]
    },
    {
      "cell_type": "markdown",
      "metadata": {
        "id": "W2O8HvnAOFf3"
      },
      "source": [
        "# Imports of modules\n",
        "\n",
        "Below we import the pulp module necessary to make this code work properly."
      ]
    },
    {
      "cell_type": "code",
      "metadata": {
        "id": "yzcyBBNEMSmS"
      },
      "source": [
        "# Import PuLP modeler functions\n",
        "from pulp import *"
      ],
      "execution_count": null,
      "outputs": []
    },
    {
      "cell_type": "markdown",
      "metadata": {
        "id": "BShsPqEKPQ1s"
      },
      "source": [
        "# Creating the LP model\n"
      ]
    },
    {
      "cell_type": "code",
      "metadata": {
        "id": "WJ73roIbMIEc"
      },
      "source": [
        "# **************Example number 1*********************\n",
        "\n",
        "# Create the decision variables\n",
        "x1 = LpVariable('x1', lowBound=0, cat='Continuous')\n",
        "x2 = LpVariable('x2', lowBound=0, cat='Continuous')\n",
        "\n",
        "# Create the 'problem1' variable to contain the problem data\n",
        "problem1 = LpProblem(\"example_1\", LpMaximize)\n",
        "\n",
        "# The objective function is added to 'problem1' first\n",
        "problem1 += 3 * x1 + 5 * x2\n",
        "\n",
        "# The constraints are added to 'problem1'\n",
        "problem1 += x1 <= 4\n",
        "problem1 += x2 <= 6\n",
        "problem1 += 3 * x1 + 2 * x2 <= 18"
      ],
      "execution_count": null,
      "outputs": []
    },
    {
      "cell_type": "markdown",
      "metadata": {
        "id": "xFB4bjViPvV5"
      },
      "source": [
        "# Solving the LP model with the default solver of PuLP"
      ]
    },
    {
      "cell_type": "code",
      "metadata": {
        "id": "8FN49Xk2Pl1h",
        "colab": {
          "base_uri": "https://localhost:8080/"
        },
        "outputId": "31e69b40-813b-4c00-cfa8-2d143b2eeed1"
      },
      "source": [
        "# The problem is solved using PuLP's choice of Solver\n",
        "# (the default solver is Coin Cbc)\n",
        "problem1.solve()"
      ],
      "execution_count": null,
      "outputs": [
        {
          "output_type": "execute_result",
          "data": {
            "text/plain": [
              "1"
            ]
          },
          "metadata": {},
          "execution_count": 4
        }
      ]
    },
    {
      "cell_type": "markdown",
      "metadata": {
        "id": "ALh2-x8_P92n"
      },
      "source": [
        "# Printing the status of the solution, the optimal values of the variables and the value of the objective function\n"
      ]
    },
    {
      "cell_type": "code",
      "metadata": {
        "id": "qG2fcI6YQD_w",
        "colab": {
          "base_uri": "https://localhost:8080/"
        },
        "outputId": "e34d9b04-9719-4afb-d06e-11ae3dd5dd70"
      },
      "source": [
        "# The status of the solution is printed to the screen\n",
        "print(\"Status:\", LpStatus[problem1.status])\n",
        "\n",
        "# The optimal value of the decision variables and the\n",
        "# optimised objective function value is printed to the screen\n",
        "for v in problem1.variables():\n",
        "    print(v.name, \"=\", v.varValue)\n",
        "\n",
        "print (\"Objective value Example 1 = \", value(problem1.objective))"
      ],
      "execution_count": null,
      "outputs": [
        {
          "output_type": "stream",
          "name": "stdout",
          "text": [
            "Status: Optimal\n",
            "x1 = 2.0\n",
            "x2 = 6.0\n",
            "Objective value Example 1 =  36.0\n"
          ]
        }
      ]
    },
    {
      "cell_type": "markdown",
      "source": [
        "# Same example with in a vectorized form"
      ],
      "metadata": {
        "id": "Y60VVe5NgToo"
      }
    },
    {
      "cell_type": "code",
      "source": [
        "set_r = range(1,3)\n",
        "\n",
        "# **************Example number 1*********************\n",
        "\n",
        "# Create the decision variables\n",
        "X = LpVariable.dicts('X', set_r, lowBound=0, cat='Continuous')\n",
        "\n",
        "\n",
        "# Create the 'problem1' variable to contain the problem data\n",
        "vectorizedProblem = LpProblem(\"VProplem\", LpMaximize)\n",
        "\n",
        "# The objective function is added to 'problem1' first\n",
        "vectorizedProblem += 3 * X[1] + 5 * X[2]\n",
        "\n",
        "# The constraints are added to 'problem1'\n",
        "vectorizedProblem += X[1] <= 4\n",
        "vectorizedProblem += X[2] <= 6\n",
        "vectorizedProblem += 3 * X[1] + 2 * X[2] <= 18\n",
        "\n",
        "# The problem is solved using PuLP's choice of Solver\n",
        "# (the default solver is Coin Cbc)\n",
        "vectorizedProblem.solve()\n",
        "\n",
        "# The status of the solution is printed to the screen\n",
        "print(\"Status:\", LpStatus[vectorizedProblem.status])\n",
        "\n",
        "# The optimal value of the decision variables and the\n",
        "# optimised objective function value is printed to the screen\n",
        "for v in vectorizedProblem.variables():\n",
        "    print(v.name, \"=\", v.varValue)\n",
        "\n",
        "print (\"Objective value Example 1 = \", value(vectorizedProblem.objective))"
      ],
      "metadata": {
        "colab": {
          "base_uri": "https://localhost:8080/"
        },
        "id": "lUMRV8IJeLAr",
        "outputId": "a97a36b7-a00a-4231-87e5-16a19d30b46e"
      },
      "execution_count": null,
      "outputs": [
        {
          "output_type": "stream",
          "name": "stdout",
          "text": [
            "Status: Optimal\n",
            "X_1 = 2.0\n",
            "X_2 = 6.0\n",
            "Objective value Example 1 =  36.0\n"
          ]
        }
      ]
    },
    {
      "cell_type": "code",
      "source": [
        "set_r = range(1,3)\n",
        "for i in set_r:\n",
        "  print(i)"
      ],
      "metadata": {
        "colab": {
          "base_uri": "https://localhost:8080/"
        },
        "id": "NDt0sawMfW21",
        "outputId": "15ba74e1-0544-45bc-d71a-e653d075cca6"
      },
      "execution_count": null,
      "outputs": [
        {
          "output_type": "stream",
          "name": "stdout",
          "text": [
            "1\n",
            "2\n"
          ]
        }
      ]
    },
    {
      "cell_type": "code",
      "source": [],
      "metadata": {
        "id": "pUjzvCy_eJSs"
      },
      "execution_count": null,
      "outputs": []
    }
  ]
}